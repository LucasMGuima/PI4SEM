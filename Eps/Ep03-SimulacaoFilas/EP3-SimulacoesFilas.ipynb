{
 "cells": [
  {
   "cell_type": "markdown",
   "metadata": {
    "id": "GMo8Ye97UcnI"
   },
   "source": [
    "## Importando o Simpy"
   ]
  },
  {
   "cell_type": "code",
   "execution_count": 1,
   "metadata": {
    "colab": {
     "base_uri": "https://localhost:8080/"
    },
    "executionInfo": {
     "elapsed": 10473,
     "status": "ok",
     "timestamp": 1669606852694,
     "user": {
      "displayName": "Lucas da Mata",
      "userId": "05919563403291476915"
     },
     "user_tz": 180
    },
    "id": "4d5B2cVnUHWe",
    "outputId": "f99bac4e-b2cc-4f56-ed6b-897bd371fb2d"
   },
   "outputs": [
    {
     "name": "stdout",
     "output_type": "stream",
     "text": [
      "Collecting simpy\n",
      "  Downloading simpy-4.0.1-py2.py3-none-any.whl (29 kB)\n",
      "Installing collected packages: simpy\n",
      "Successfully installed simpy-4.0.1\n"
     ]
    }
   ],
   "source": [
    "!pip install simpy\n",
    "import simpy"
   ]
  },
  {
   "cell_type": "markdown",
   "metadata": {
    "id": "6aQWfVl7VggV"
   },
   "source": [
    "## Simulação\n",
    "Simulando  um linha de produção, tendo a materia prima como fila e o maquinario como serviço."
   ]
  },
  {
   "cell_type": "code",
   "execution_count": 2,
   "metadata": {
    "colab": {
     "base_uri": "https://localhost:8080/"
    },
    "executionInfo": {
     "elapsed": 357,
     "status": "ok",
     "timestamp": 1669609017221,
     "user": {
      "displayName": "Lucas da Mata",
      "userId": "05919563403291476915"
     },
     "user_tz": 180
    },
    "id": "nqWE2L3HVyOu",
    "outputId": "18a1babf-9ed2-40af-86cd-27229439a520"
   },
   "outputs": [
    {
     "name": "stdout",
     "output_type": "stream",
     "text": [
      "  0: 🟢 Roomba[0] começou a processar.\n",
      "  0: 🟢 Roomba[1] começou a processar.\n",
      "  0: 🟢 Roomba[2] começou a processar.\n",
      "  0: 🟢 Roomba[3] começou a processar.\n",
      "  0: 🟢 Roomba[4] começou a processar.\n",
      "  0: 🟢 Roomba[5] começou a processar.\n",
      "  0: 🟢 Roomba[6] começou a processar.\n",
      "  0: 🟢 Roomba[7] começou a processar.\n",
      "  0: 🟢 Roomba[8] começou a processar.\n",
      "  0: 🟢 Roomba[9] começou a processar.\n",
      "  0: 🟢 Roomba[10] começou a processar.\n",
      "  0: 🟢 Roomba[11] começou a processar.\n",
      "  0: 🟢 Roomba[12] começou a processar.\n",
      "  0: 🟢 Roomba[13] começou a processar.\n",
      "  0: 🟢 Roomba[14] começou a processar.\n",
      "  0: 🟢 Roomba[15] começou a processar.\n",
      "  0: 🟢 Roomba[16] começou a processar.\n",
      "  0: 🟢 Roomba[17] começou a processar.\n",
      "  0: 🟢 Roomba[18] começou a processar.\n",
      "  0: 🟢 Roomba[19] começou a processar.\n",
      "  0: 🟠 Roomba[0] terminou de processar.\n",
      "  0: 🟠 Roomba[1] terminou de processar.\n",
      "  0: 🟠 Roomba[2] terminou de processar.\n",
      "  0: 🟠 Roomba[3] terminou de processar.\n",
      "  0: 🟠 Roomba[4] terminou de processar.\n",
      "  0: 🟠 Roomba[5] terminou de processar.\n",
      "  0: 🟠 Roomba[6] terminou de processar.\n",
      "  0: 🟠 Roomba[7] terminou de processar.\n",
      "  0: 🟠 Roomba[8] terminou de processar.\n",
      "  0: 🟠 Roomba[9] terminou de processar.\n",
      "  0: 🟠 Roomba[10] terminou de processar.\n",
      "  0: 🟠 Roomba[11] terminou de processar.\n",
      "  0: 🟠 Roomba[12] terminou de processar.\n",
      "  0: 🟠 Roomba[13] terminou de processar.\n",
      "  0: 🟠 Roomba[14] terminou de processar.\n",
      "  0: 🟠 Roomba[15] terminou de processar.\n",
      "  0: 🟠 Roomba[16] terminou de processar.\n",
      "  0: 🟠 Roomba[17] terminou de processar.\n",
      "  0: 🟠 Roomba[18] terminou de processar.\n",
      "  0: 🟠 Roomba[19] terminou de processar.\n",
      "  0: 🚛 Roomba[0] pegando mais material.\n",
      "  0: 🚛 Roomba[1] pegando mais material.\n",
      "  0: 🚛 Roomba[2] pegando mais material.\n",
      "  0: 🚛 Roomba[3] pegando mais material.\n",
      "  0: 🚛 Roomba[4] pegando mais material.\n",
      "  5: 📦 Roomba[0] pronto para começar.\n",
      "  5: 🟢 Roomba[0] começou a processar.\n",
      "  5: 🚛 Roomba[5] pegando mais material.\n",
      "  6: 📦 Roomba[3] pronto para começar.\n",
      "  6: 🟢 Roomba[3] começou a processar.\n",
      "  6: 🚛 Roomba[6] pegando mais material.\n",
      " 10: 🟠 Roomba[0] terminou de processar.\n",
      " 12: 🟠 Roomba[3] terminou de processar.\n",
      " 22: 📦 Roomba[1] pronto para começar.\n",
      " 22: 🟢 Roomba[1] começou a processar.\n",
      " 22: 🚛 Roomba[7] pegando mais material.\n",
      " 41: 📦 Roomba[2] pronto para começar.\n",
      " 41: 🟢 Roomba[2] começou a processar.\n",
      " 41: 📦 Roomba[7] pronto para começar.\n",
      " 41: 🟢 Roomba[7] começou a processar.\n",
      " 41: 🚛 Roomba[8] pegando mais material.\n",
      " 41: 🚛 Roomba[9] pegando mais material.\n",
      " 44: 🟠 Roomba[1] terminou de processar.\n",
      " 48: 📦 Roomba[6] pronto para começar.\n",
      " 48: 🟢 Roomba[6] começou a processar.\n",
      " 48: 🚛 Roomba[10] pegando mais material.\n",
      " 51: 📦 Roomba[5] pronto para começar.\n",
      " 51: 🟢 Roomba[5] começou a processar.\n",
      " 51: 🚛 Roomba[11] pegando mais material.\n",
      " 78: 📦 Roomba[4] pronto para começar.\n",
      " 78: 🟢 Roomba[4] começou a processar.\n",
      " 78: 🚛 Roomba[12] pegando mais material.\n",
      " 82: 🟠 Roomba[2] terminou de processar.\n",
      " 82: 🟠 Roomba[7] terminou de processar.\n",
      " 82: 📦 Roomba[10] pronto para começar.\n",
      " 82: 🟢 Roomba[10] começou a processar.\n",
      " 82: 🚛 Roomba[13] pegando mais material.\n",
      " 84: 📦 Roomba[8] pronto para começar.\n",
      " 84: 🟢 Roomba[8] começou a processar.\n",
      " 84: 🚛 Roomba[14] pegando mais material.\n",
      " 88: 📦 Roomba[9] pronto para começar.\n",
      " 88: 🟢 Roomba[9] começou a processar.\n",
      " 88: 🚛 Roomba[15] pegando mais material.\n",
      " 96: 🟠 Roomba[6] terminou de processar.\n",
      " 96: 📦 Roomba[12] pronto para começar.\n",
      " 96: 🟢 Roomba[12] começou a processar.\n",
      " 96: 🚛 Roomba[16] pegando mais material.\n",
      " 97: 📦 Roomba[15] pronto para começar.\n",
      " 97: 🟢 Roomba[15] começou a processar.\n",
      " 97: 🚛 Roomba[17] pegando mais material.\n",
      "102: 🟠 Roomba[5] terminou de processar.\n",
      "128: 📦 Roomba[17] pronto para começar.\n",
      "128: 🟢 Roomba[17] começou a processar.\n",
      "128: 🚛 Roomba[18] pegando mais material.\n",
      "129: 📦 Roomba[16] pronto para começar.\n",
      "129: 🟢 Roomba[16] começou a processar.\n",
      "129: 🚛 Roomba[19] pegando mais material.\n",
      "133: 📦 Roomba[11] pronto para começar.\n",
      "133: 🟢 Roomba[11] começou a processar.\n",
      "133: 🚛 Roomba[0] pegando mais material.\n",
      "156: 🟠 Roomba[4] terminou de processar.\n",
      "162: 📦 Roomba[13] pronto para começar.\n",
      "162: 🟢 Roomba[13] começou a processar.\n",
      "162: 📦 Roomba[19] pronto para começar.\n",
      "162: 🟢 Roomba[19] começou a processar.\n",
      "162: 🚛 Roomba[3] pegando mais material.\n",
      "162: 🚛 Roomba[1] pegando mais material.\n",
      "164: 🟠 Roomba[10] terminou de processar.\n",
      "168: 🟠 Roomba[8] terminou de processar.\n",
      "171: 📦 Roomba[18] pronto para começar.\n",
      "171: 🟢 Roomba[18] começou a processar.\n",
      "171: 🚛 Roomba[2] pegando mais material.\n",
      "176: 🟠 Roomba[9] terminou de processar.\n",
      "177: 📦 Roomba[14] pronto para começar.\n",
      "177: 🟢 Roomba[14] começou a processar.\n",
      "177: 🚛 Roomba[7] pegando mais material.\n",
      "180: 📦 Roomba[0] pronto para começar.\n",
      "180: 🟢 Roomba[0] começou a processar.\n",
      "180: 🚛 Roomba[6] pegando mais material.\n",
      "192: 🟠 Roomba[12] terminou de processar.\n",
      "194: 🟠 Roomba[15] terminou de processar.\n",
      "233: 📦 Roomba[6] pronto para começar.\n",
      "233: 🟢 Roomba[6] começou a processar.\n",
      "233: 🚛 Roomba[5] pegando mais material.\n",
      "237: 📦 Roomba[7] pronto para começar.\n",
      "237: 🟢 Roomba[7] começou a processar.\n",
      "237: 🚛 Roomba[4] pegando mais material.\n",
      "241: 📦 Roomba[1] pronto para começar.\n",
      "241: 🟢 Roomba[1] começou a processar.\n",
      "241: 🚛 Roomba[10] pegando mais material.\n",
      "251: 📦 Roomba[2] pronto para começar.\n",
      "251: 🟢 Roomba[2] começou a processar.\n",
      "251: 🚛 Roomba[8] pegando mais material.\n",
      "254: 📦 Roomba[3] pronto para começar.\n",
      "254: 🟢 Roomba[3] começou a processar.\n",
      "254: 🚛 Roomba[9] pegando mais material.\n",
      "256: 🟠 Roomba[17] terminou de processar.\n",
      "258: 🟠 Roomba[16] terminou de processar.\n",
      "265: 📦 Roomba[5] pronto para começar.\n",
      "265: 🟢 Roomba[5] começou a processar.\n",
      "265: 🚛 Roomba[12] pegando mais material.\n",
      "266: 🟠 Roomba[11] terminou de processar.\n",
      "270: 📦 Roomba[10] pronto para começar.\n",
      "270: 🟢 Roomba[10] começou a processar.\n",
      "270: 🚛 Roomba[15] pegando mais material.\n",
      "271: 📦 Roomba[8] pronto para começar.\n",
      "271: 🟢 Roomba[8] começou a processar.\n",
      "271: 🚛 Roomba[17] pegando mais material.\n",
      "282: 📦 Roomba[4] pronto para começar.\n",
      "282: 🟢 Roomba[4] começou a processar.\n",
      "282: 🚛 Roomba[16] pegando mais material.\n"
     ]
    }
   ],
   "source": [
    "import matplotlib.pyplot as plt\n",
    "import random\n",
    "\n",
    "#usado para plotar\n",
    "tempo_total_de_processo = 0\n",
    "proc_horarios = []\n",
    "proc_tempos = []\n",
    "\n",
    "def processo(id, temp_proc):\n",
    "  global tempo_total_de_processo\n",
    "  while True:\n",
    "    tempo_comeco = env.now\n",
    "    print(f\"{tempo_comeco:3d}: 🟢 Roomba[{id}] começou a processar.\")\n",
    "    yield env.timeout(env.now) # fica limpando pelo tempo da bateria\n",
    "    \n",
    "    tempo_parou = env.now\n",
    "    print(f\"{tempo_parou:3d}: 🟠 Roomba[{id}] terminou de processar.\")\n",
    "    tempo_total_de_processo += (tempo_parou - tempo_comeco)\n",
    "    \n",
    "    proc_horarios.append(env.now)\n",
    "    proc_tempos.append(tempo_total_de_processo)\n",
    "\n",
    "    with maquinas.request() as request:\n",
    "      yield request # espera pelo acesso\n",
    "      \n",
    "      print(f\"{env.now:3d}: 🚛 Roomba[{id}] pegando mais material.\")\n",
    "      #Tempo de coleta varia\n",
    "      temp = random.randint(5, 100)\n",
    "      yield env.timeout(temp) # carrega em 5 tempos\n",
    "      print(f\"{env.now:3d}: 📦 Roomba[{id}] pronto para começar.\")\n",
    "\n",
    "#Iniciando o ambiente\n",
    "env = simpy.Environment()\n",
    "\n",
    "#Criar maquinas\n",
    "maquinas = simpy.Resource(env, capacity=5)\n",
    "\n",
    "#Adiciona 20 materias-primas com tempo de processamento de 35\n",
    "qtd_mat = 20\n",
    "temp_proc = 35\n",
    "for n in range(qtd_mat):\n",
    "  env.process(processo(n, temp_proc))\n",
    "\n",
    "env.run(until=300) # rodou o evento até o tempo 300"
   ]
  },
  {
   "cell_type": "markdown",
   "metadata": {
    "id": "xSzHNWGMateU"
   },
   "source": [
    "## Plotando\n",
    "Agora vamos plotar o resultado da simulação feita a cima"
   ]
  },
  {
   "cell_type": "code",
   "execution_count": 3,
   "metadata": {
    "colab": {
     "base_uri": "https://localhost:8080/",
     "height": 371
    },
    "executionInfo": {
     "elapsed": 807,
     "status": "ok",
     "timestamp": 1669609023458,
     "user": {
      "displayName": "Lucas da Mata",
      "userId": "05919563403291476915"
     },
     "user_tz": 180
    },
    "id": "QX0UpzKha0wc",
    "outputId": "71a4e1f6-952e-4eb1-916c-de08df3ff684"
   },
   "outputs": [
    {
     "data": {
      "image/png": "[encoded data removed]",
      "text/plain": [
       "<Figure size 1000x540 with 1 Axes>"
      ]
     },
     "metadata": {},
     "output_type": "display_data"
    }
   ],
   "source": [
    "fig, ax = plt.subplots()\n",
    "fig.set_size_inches(10, 5.4)\n",
    "\n",
    "ax.plot(proc_horarios, proc_tempos)\n",
    "ax.set_xlabel('Tempo')\n",
    "ax.set_ylabel('Tempo total de processamento')\n",
    "ax.set_title('Tempo acumulado de processamento')\n",
    "ax.grid()"
   ]
  }
 ],
 "metadata": {
  "colab": {
   "authorship_tag": "ABX9TyMQlWBe5iUncGtaOj1uKH7G",
   "provenance": []
  },
  "kernelspec": {
   "display_name": "Python 3 (ipykernel)",
   "language": "python",
   "name": "python3"
  },
  "language_info": {
   "codemirror_mode": {
    "name": "ipython",
    "version": 3
   },
   "file_extension": ".py",
   "mimetype": "text/x-python",
   "name": "python",
   "nbconvert_exporter": "python",
   "pygments_lexer": "ipython3",
   "version": "3.9.13"
  }
 },
 "nbformat": 4,
 "nbformat_minor": 4
}
